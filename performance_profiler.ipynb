{
  "nbformat": 4,
  "nbformat_minor": 0,
  "metadata": {
    "colab": {
      "provenance": [],
      "authorship_tag": "ABX9TyPgE20vBlT1kIisNdtF1i7D",
      "include_colab_link": true
    },
    "kernelspec": {
      "name": "python3",
      "display_name": "Python 3"
    },
    "language_info": {
      "name": "python"
    }
  },
  "cells": [
    {
      "cell_type": "markdown",
      "metadata": {
        "id": "view-in-github",
        "colab_type": "text"
      },
      "source": [
        "<a href=\"https://colab.research.google.com/github/fertorresfs/Performance-Profiler-Para-Funcoes-Python/blob/main/performance_profiler.ipynb\" target=\"_parent\"><img src=\"https://colab.research.google.com/assets/colab-badge.svg\" alt=\"Open In Colab\"/></a>"
      ]
    },
    {
      "cell_type": "code",
      "execution_count": null,
      "metadata": {
        "id": "9i1mFvjSBjgL"
      },
      "outputs": [],
      "source": [
        "import timeit\n",
        "from memory_profiler import profile\n",
        "import logging\n",
        "import functools\n",
        "\n",
        "# Configurar o logging\n",
        "logging.basicConfig(filename='performance.log', level=logging.INFO, format='%(asctime)s - %(levelname)s - %(message)s')"
      ]
    },
    {
      "cell_type": "code",
      "source": [
        "def profile_performance(func):\n",
        "    \"\"\"Decorador para criar o perfil de desempenho de uma função.\"\"\"\n",
        "    @functools.wraps(func)  # Mantém o nome e a docstring da função original\n",
        "    def wrapper(*args, **kwargs):\n",
        "        # Medir o tempo de execução\n",
        "        tempo_inicio = timeit.default_timer()\n",
        "        valor_retorno = func(*args, **kwargs)\n",
        "        tempo_fim = timeit.default_timer()\n",
        "        tempo_execucao = tempo_fim - tempo_inicio\n",
        "\n",
        "\n",
        "        # Registrar o tempo de execução\n",
        "        logging.info(f\"Tempo de execução de '{func.__name__}': {tempo_execucao:.6f} segundos\")\n",
        "\n",
        "\n",
        "\n",
        "        # Medir o uso de memória (requer memory_profiler)\n",
        "        mem_usage = profile(func)(*args, **kwargs) #decorator interno para memory_profiler\n",
        "\n",
        "        # Registrar uso de memória (simplificado)\n",
        "        logging.info(f\"Uso máximo de memória de '{func.__name__}': {max(mem_usage):.4f} MiB\")\n",
        "\n",
        "\n",
        "        return valor_retorno\n",
        "\n",
        "    return wrapper"
      ],
      "metadata": {
        "id": "eukqBth2BrFV"
      },
      "execution_count": null,
      "outputs": []
    },
    {
      "cell_type": "code",
      "source": [
        "# Exemplo de uso:\n",
        "@profile_performance\n",
        "def minha_funcao(n):\n",
        "    \"\"\"\n",
        "    Uma função de exemplo para testar o profiler.\n",
        "    \"\"\"\n",
        "    a = [i ** 2 for i in range(n)]\n",
        "    return sum(a)"
      ],
      "metadata": {
        "id": "Jd0IU1LEBtie"
      },
      "execution_count": null,
      "outputs": []
    },
    {
      "cell_type": "code",
      "source": [
        "# Chamar a função (o profiling é feito automaticamente pelo decorador)\n",
        "resultado = minha_funcao(100000)"
      ],
      "metadata": {
        "id": "JUGzixINBwwA"
      },
      "execution_count": null,
      "outputs": []
    },
    {
      "cell_type": "code",
      "source": [
        "print(f\"Resultado: {resultado}\")"
      ],
      "metadata": {
        "id": "aQGy0e4jByXp"
      },
      "execution_count": null,
      "outputs": []
    },
    {
      "cell_type": "code",
      "source": [
        "# Instalar o memory_profiler:  pip install memory_profiler\n",
        "# Para visualizar o uso de memória linha a linha, use mprof:\n",
        "# 1.  Adicione @profile acima da definição da função.\n",
        "# 2.  Execute: `mprof run performance_profiler.py`\n",
        "# 3.  Visualize o resultado:  `mprof plot`"
      ],
      "metadata": {
        "id": "Wi_CM5OWB0yx"
      },
      "execution_count": null,
      "outputs": []
    }
  ]
}